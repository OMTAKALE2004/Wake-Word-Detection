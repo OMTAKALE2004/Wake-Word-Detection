{
 "cells": [
  {
   "cell_type": "code",
   "execution_count": 23,
   "metadata": {},
   "outputs": [],
   "source": [
    "import sounddevice as sd\n",
    "from scipy.io.wavfile import write\n",
    "import librosa\n",
    "import numpy as np\n",
    "import pickle\n",
    "from tensorflow.keras.models import load_model"
   ]
  },
  {
   "cell_type": "code",
   "execution_count": 18,
   "metadata": {},
   "outputs": [],
   "source": [
    "sample_rate = 44100\n",
    "record_duration = 2\n",
    "filename = \"prediction.wav\"\n",
    "# class_names = [\"Wake Word NOT Detected\", \"Wake Word Detected\"]"
   ]
  },
  {
   "cell_type": "code",
   "execution_count": 19,
   "metadata": {},
   "outputs": [],
   "source": [
    "model=pickle.load(open(\"D:/Wake word detection/Saved Models/Logistic_reg_wakeword.txt\",\"rb\"))\n",
    "# model=load_model(\"D:/Wake word detection/Saved Models/Tensorflow_wakeword.h5\")"
   ]
  },
  {
   "cell_type": "code",
   "execution_count": null,
   "metadata": {},
   "outputs": [],
   "source": [
    "def record():\n",
    "\n",
    "    test_save_folder_path=\"D:/Wake word detection/test_audio_files/\"\n",
    "    n=10\n",
    "    input(\"hit enter\")\n",
    "    for i in range(0,10):\n",
    "        sample_rate=44100\n",
    "        record_duration=2\n",
    "        recordings=sd.rec(int(sample_rate*record_duration),samplerate=sample_rate,channels=2)\n",
    "        sd.wait()\n",
    "        write(test_save_folder_path+str(i)+\".wav\",sample_rate,recordings)\n",
    "        input(f\"Press to record next or two stop press ctrl + C ({i + 1}/{n}): \")\n",
    "\n",
    "\n",
    "print(\"Start\")\n",
    "record()\n"
   ]
  },
  {
   "cell_type": "code",
   "execution_count": 21,
   "metadata": {},
   "outputs": [
    {
     "name": "stdout",
     "output_type": "stream",
     "text": [
      "Wake Word NOT Detected for audio file 0.wav\n",
      "Wake Word NOT Detected for audio file 1.wav\n",
      "Wake Word Detected for audio file 2.wav\n",
      "Wake Word NOT Detected for audio file 3.wav\n",
      "Wake Word Detected for audio file 4.wav\n",
      "Wake Word Detected for audio file 5.wav\n",
      "Wake Word NOT Detected for audio file 6.wav\n",
      "Wake Word NOT Detected for audio file 7.wav\n",
      "Wake Word NOT Detected for audio file 8.wav\n",
      "Wake Word Detected for audio file 9.wav\n"
     ]
    }
   ],
   "source": [
    "\n",
    "for i in range(0,10):\n",
    "    filename=\"D:/Wake word detection/test_audio_files/\"\n",
    "    data,sample_rate=librosa.load(filename+str(i)+\".wav\")\n",
    "    mfccs=librosa.feature.mfcc(y=data,sr=sample_rate,n_mfcc=40)\n",
    "    processed_mfcc=np.mean(mfccs.T,axis=0)\n",
    "\n",
    "    prediction=model.predict(processed_mfcc.reshape(1,-1))\n",
    "    \n",
    "    # print(prediction)\n",
    "    if prediction==1:\n",
    "        print(f\"Wake Word Detected for audio file {i}.wav\")\n",
    "        i += 1\n",
    "\n",
    "    else:\n",
    "        print(f\"Wake Word NOT Detected for audio file {i}.wav\")\n",
    "        i=i+1"
   ]
  },
  {
   "cell_type": "code",
   "execution_count": null,
   "metadata": {},
   "outputs": [],
   "source": [
    "sample_rate = 44100\n",
    "record_duration = 2\n",
    "filename = \"prediction.wav\"\n",
    "print(\"Prediction Started: \")\n",
    "i = 0\n",
    "while True:\n",
    "    print(\"Say Now: \")\n",
    "    myrecording = sd.rec(int(record_duration * sample_rate), samplerate=sample_rate, channels=2)\n",
    "    sd.wait()\n",
    "    write(filename, sample_rate, myrecording)\n",
    "\n",
    "    audio, sample_rate = librosa.load(filename)\n",
    "    mfcc = librosa.feature.mfcc(y=audio, sr=sample_rate, n_mfcc=40)\n",
    "    mfcc_processed = np.mean(mfcc.T, axis=0)\n",
    "\n",
    "    prediction = model.predict(np.expand_dims(mfcc_processed, axis=0))\n",
    "    # predicted_class = np.argmax(prediction, axis=1)\n",
    "   \n",
    "    # print(prediction)\n",
    "    if prediction==1:\n",
    "        print(f\"Wake Word Detected for audio file {i}.wav\")\n",
    "        \n",
    "\n",
    "    else:\n",
    "        print(f\"Wake Word NOT Detected for audio file {i}.wav\")\n",
    "        \n",
    "    i=i+1"
   ]
  },
  {
   "cell_type": "code",
   "execution_count": null,
   "metadata": {},
   "outputs": [],
   "source": []
  }
 ],
 "metadata": {
  "kernelspec": {
   "display_name": "Python 3",
   "language": "python",
   "name": "python3"
  },
  "language_info": {
   "codemirror_mode": {
    "name": "ipython",
    "version": 3
   },
   "file_extension": ".py",
   "mimetype": "text/x-python",
   "name": "python",
   "nbconvert_exporter": "python",
   "pygments_lexer": "ipython3",
   "version": "3.11.4"
  }
 },
 "nbformat": 4,
 "nbformat_minor": 2
}

{
 "cells": [
  {
   "cell_type": "markdown",
   "metadata": {},
   "source": [
    "# using Logistic Regression to train the model"
   ]
  },
  {
   "cell_type": "code",
   "execution_count": 2,
   "metadata": {},
   "outputs": [
    {
     "name": "stdout",
     "output_type": "stream",
     "text": [
      "Defaulting to user installation because normal site-packages is not writeable\n",
      "Collecting pcm\n",
      "  Downloading pcm-0.8.1-py3-none-any.whl.metadata (962 bytes)\n",
      "Requirement already satisfied: Click>=7.0 in c:\\users\\om\\appdata\\roaming\\python\\python311\\site-packages (from pcm) (8.1.6)\n",
      "Collecting online-judge-tools>=9.0.0 (from pcm)\n",
      "  Downloading online_judge_tools-11.5.1-py3-none-any.whl.metadata (9.1 kB)\n",
      "Collecting online-judge-verify-helper (from pcm)\n",
      "  Downloading online_judge_verify_helper-5.6.0-py3-none-any.whl.metadata (6.3 kB)\n",
      "Collecting toml (from pcm)\n",
      "  Downloading toml-0.10.2-py2.py3-none-any.whl.metadata (7.1 kB)\n",
      "INFO: pip is looking at multiple versions of pcm to determine which version is compatible with other requirements. This could take a while.\n",
      "Collecting pcm\n",
      "  Downloading pcm-0.8.0-py3-none-any.whl.metadata (962 bytes)\n",
      "  Downloading pcm-0.7.0.2-py3-none-any.whl.metadata (752 bytes)\n",
      "  Downloading pcm-0.7.0.1-py3-none-any.whl.metadata (752 bytes)\n",
      "  Downloading pcm-0.7.0-py3-none-any.whl.metadata (725 bytes)\n",
      "  Downloading pcm-0.6.4-py3-none-any.whl.metadata (702 bytes)\n",
      "Requirement already satisfied: colorama in c:\\users\\om\\appdata\\roaming\\python\\python311\\site-packages (from Click>=7.0->pcm) (0.4.6)\n",
      "Collecting online-judge-api-client<11,>=10.9.0 (from online-judge-tools>=9.0.0->pcm)\n",
      "  Downloading online_judge_api_client-10.10.1-py3-none-any.whl.metadata (16 kB)\n",
      "Requirement already satisfied: requests<3,>=2 in c:\\users\\om\\appdata\\roaming\\python\\python311\\site-packages (from online-judge-tools>=9.0.0->pcm) (2.31.0)\n",
      "Collecting colorlog (from online-judge-verify-helper->pcm)\n",
      "  Downloading colorlog-6.8.2-py3-none-any.whl.metadata (10 kB)\n",
      "Requirement already satisfied: pyyaml in c:\\users\\om\\appdata\\roaming\\python\\python311\\site-packages (from online-judge-verify-helper->pcm) (6.0.1)\n",
      "Requirement already satisfied: setuptools in c:\\program files\\python311\\lib\\site-packages (from online-judge-verify-helper->pcm) (65.5.0)\n",
      "Collecting importlab (from online-judge-verify-helper->pcm)\n",
      "  Downloading importlab-0.8.1-py2.py3-none-any.whl.metadata (2.4 kB)\n",
      "Collecting appdirs>=1 (from online-judge-api-client<11,>=10.9.0->online-judge-tools>=9.0.0->pcm)\n",
      "  Downloading appdirs-1.4.4-py2.py3-none-any.whl.metadata (9.0 kB)\n",
      "Requirement already satisfied: beautifulsoup4>=4 in c:\\users\\om\\appdata\\roaming\\python\\python311\\site-packages (from online-judge-api-client<11,>=10.9.0->online-judge-tools>=9.0.0->pcm) (4.12.3)\n",
      "Requirement already satisfied: lxml>=4 in c:\\users\\om\\appdata\\roaming\\python\\python311\\site-packages (from online-judge-api-client<11,>=10.9.0->online-judge-tools>=9.0.0->pcm) (5.2.2)\n",
      "Requirement already satisfied: jsonschema>=3.2 in c:\\users\\om\\appdata\\roaming\\python\\python311\\site-packages (from online-judge-api-client<11,>=10.9.0->online-judge-tools>=9.0.0->pcm) (4.21.1)\n",
      "Requirement already satisfied: charset-normalizer<4,>=2 in c:\\users\\om\\appdata\\roaming\\python\\python311\\site-packages (from requests<3,>=2->online-judge-tools>=9.0.0->pcm) (3.2.0)\n",
      "Requirement already satisfied: idna<4,>=2.5 in c:\\users\\om\\appdata\\roaming\\python\\python311\\site-packages (from requests<3,>=2->online-judge-tools>=9.0.0->pcm) (3.4)\n",
      "Requirement already satisfied: urllib3<3,>=1.21.1 in c:\\users\\om\\appdata\\roaming\\python\\python311\\site-packages (from requests<3,>=2->online-judge-tools>=9.0.0->pcm) (2.0.4)\n",
      "Requirement already satisfied: certifi>=2017.4.17 in c:\\users\\om\\appdata\\roaming\\python\\python311\\site-packages (from requests<3,>=2->online-judge-tools>=9.0.0->pcm) (2023.7.22)\n",
      "Requirement already satisfied: networkx>=2 in c:\\users\\om\\appdata\\roaming\\python\\python311\\site-packages (from importlab->online-judge-verify-helper->pcm) (3.1)\n",
      "Requirement already satisfied: soupsieve>1.2 in c:\\users\\om\\appdata\\roaming\\python\\python311\\site-packages (from beautifulsoup4>=4->online-judge-api-client<11,>=10.9.0->online-judge-tools>=9.0.0->pcm) (2.5)\n",
      "Requirement already satisfied: attrs>=22.2.0 in c:\\users\\om\\appdata\\roaming\\python\\python311\\site-packages (from jsonschema>=3.2->online-judge-api-client<11,>=10.9.0->online-judge-tools>=9.0.0->pcm) (23.2.0)\n",
      "Requirement already satisfied: jsonschema-specifications>=2023.03.6 in c:\\users\\om\\appdata\\roaming\\python\\python311\\site-packages (from jsonschema>=3.2->online-judge-api-client<11,>=10.9.0->online-judge-tools>=9.0.0->pcm) (2023.12.1)\n",
      "Requirement already satisfied: referencing>=0.28.4 in c:\\users\\om\\appdata\\roaming\\python\\python311\\site-packages (from jsonschema>=3.2->online-judge-api-client<11,>=10.9.0->online-judge-tools>=9.0.0->pcm) (0.33.0)\n",
      "Requirement already satisfied: rpds-py>=0.7.1 in c:\\users\\om\\appdata\\roaming\\python\\python311\\site-packages (from jsonschema>=3.2->online-judge-api-client<11,>=10.9.0->online-judge-tools>=9.0.0->pcm) (0.18.0)\n",
      "Downloading pcm-0.6.4-py3-none-any.whl (26 kB)\n",
      "Downloading online_judge_tools-11.5.1-py3-none-any.whl (47 kB)\n",
      "   ---------------------------------------- 0.0/47.3 kB ? eta -:--:--\n",
      "   -------- ------------------------------- 10.2/47.3 kB ? eta -:--:--\n",
      "   ------------------------- -------------- 30.7/47.3 kB 435.7 kB/s eta 0:00:01\n",
      "   ------------------------- -------------- 30.7/47.3 kB 435.7 kB/s eta 0:00:01\n",
      "   ---------------------------------- ----- 41.0/47.3 kB 195.7 kB/s eta 0:00:01\n",
      "   ---------------------------------------- 47.3/47.3 kB 215.6 kB/s eta 0:00:00\n",
      "Downloading online_judge_verify_helper-5.6.0-py3-none-any.whl (57 kB)\n",
      "   ---------------------------------------- 0.0/57.4 kB ? eta -:--:--\n",
      "   ---------------------------------------- 0.0/57.4 kB ? eta -:--:--\n",
      "   ------- -------------------------------- 10.2/57.4 kB ? eta -:--:--\n",
      "   --------------------- ------------------ 30.7/57.4 kB 435.7 kB/s eta 0:00:01\n",
      "   ---------------------------- ----------- 41.0/57.4 kB 245.8 kB/s eta 0:00:01\n",
      "   ----------------------------------- ---- 51.2/57.4 kB 292.6 kB/s eta 0:00:01\n",
      "   ---------------------------------------- 57.4/57.4 kB 274.0 kB/s eta 0:00:00\n",
      "Downloading toml-0.10.2-py2.py3-none-any.whl (16 kB)\n",
      "Downloading online_judge_api_client-10.10.1-py3-none-any.whl (185 kB)\n",
      "   ---------------------------------------- 0.0/186.0 kB ? eta -:--:--\n",
      "   ---------------------------------------- 0.0/186.0 kB ? eta -:--:--\n",
      "   ---- ----------------------------------- 20.5/186.0 kB ? eta -:--:--\n",
      "   -------- ------------------------------ 41.0/186.0 kB 495.5 kB/s eta 0:00:01\n",
      "   -------- ------------------------------ 41.0/186.0 kB 495.5 kB/s eta 0:00:01\n",
      "   ---------- ---------------------------- 51.2/186.0 kB 219.0 kB/s eta 0:00:01\n",
      "   --------------- ----------------------- 71.7/186.0 kB 302.7 kB/s eta 0:00:01\n",
      "   ----------------- --------------------- 81.9/186.0 kB 286.7 kB/s eta 0:00:01\n",
      "   ----------------- --------------------- 81.9/186.0 kB 286.7 kB/s eta 0:00:01\n",
      "   -------------------- ----------------- 102.4/186.0 kB 267.9 kB/s eta 0:00:01\n",
      "   ------------------------- ------------ 122.9/186.0 kB 277.4 kB/s eta 0:00:01\n",
      "   ------------------------- ------------ 122.9/186.0 kB 277.4 kB/s eta 0:00:01\n",
      "   ------------------------------- ------ 153.6/186.0 kB 277.8 kB/s eta 0:00:01\n",
      "   ------------------------------- ------ 153.6/186.0 kB 277.8 kB/s eta 0:00:01\n",
      "   -------------------------------------  184.3/186.0 kB 285.8 kB/s eta 0:00:01\n",
      "   -------------------------------------- 186.0/186.0 kB 281.2 kB/s eta 0:00:00\n",
      "Downloading colorlog-6.8.2-py3-none-any.whl (11 kB)\n",
      "Downloading importlab-0.8.1-py2.py3-none-any.whl (21 kB)\n",
      "Downloading appdirs-1.4.4-py2.py3-none-any.whl (9.6 kB)\n",
      "Installing collected packages: appdirs, toml, importlab, colorlog, online-judge-api-client, online-judge-tools, online-judge-verify-helper, pcm\n",
      "Successfully installed appdirs-1.4.4 colorlog-6.8.2 importlab-0.8.1 online-judge-api-client-10.10.1 online-judge-tools-11.5.1 online-judge-verify-helper-5.6.0 pcm-0.6.4 toml-0.10.2\n",
      "Note: you may need to restart the kernel to use updated packages.\n"
     ]
    },
    {
     "name": "stderr",
     "output_type": "stream",
     "text": [
      "DEPRECATION: Loading egg at c:\\program files\\python311\\lib\\site-packages\\vboxapi-1.0-py3.11.egg is deprecated. pip 24.3 will enforce this behaviour change. A possible replacement is to use pip for package installation. Discussion can be found at https://github.com/pypa/pip/issues/12330\n",
      "\n",
      "[notice] A new release of pip is available: 24.1 -> 24.2\n",
      "[notice] To update, run: python.exe -m pip install --upgrade pip\n"
     ]
    }
   ],
   "source": [
    "pip install pcm"
   ]
  },
  {
   "cell_type": "code",
   "execution_count": 1,
   "metadata": {},
   "outputs": [],
   "source": [
    "import numpy as np\n",
    "import pandas as pd\n",
    "from sklearn.model_selection import train_test_split\n",
    "from sklearn.linear_model import LogisticRegression\n",
    "from sklearn.metrics import confusion_matrix, classification_report,ConfusionMatrixDisplay\n",
    "# from PCM.PCM import plot_confusion_matrix\n",
    "import pickle\n"
   ]
  },
  {
   "cell_type": "code",
   "execution_count": 2,
   "metadata": {},
   "outputs": [],
   "source": [
    "df=pd.read_pickle(\"D:/Wake word detection/Processed_data_file/audio_data.csv\")"
   ]
  },
  {
   "cell_type": "code",
   "execution_count": 3,
   "metadata": {},
   "outputs": [
    {
     "data": {
      "text/html": [
       "<div>\n",
       "<style scoped>\n",
       "    .dataframe tbody tr th:only-of-type {\n",
       "        vertical-align: middle;\n",
       "    }\n",
       "\n",
       "    .dataframe tbody tr th {\n",
       "        vertical-align: top;\n",
       "    }\n",
       "\n",
       "    .dataframe thead th {\n",
       "        text-align: right;\n",
       "    }\n",
       "</style>\n",
       "<table border=\"1\" class=\"dataframe\">\n",
       "  <thead>\n",
       "    <tr style=\"text-align: right;\">\n",
       "      <th></th>\n",
       "      <th>feature</th>\n",
       "      <th>class_label</th>\n",
       "    </tr>\n",
       "  </thead>\n",
       "  <tbody>\n",
       "    <tr>\n",
       "      <th>0</th>\n",
       "      <td>[-785.49194, 115.91496, 0.42386302, 3.0818355,...</td>\n",
       "      <td>0</td>\n",
       "    </tr>\n",
       "    <tr>\n",
       "      <th>1</th>\n",
       "      <td>[-802.4487, 110.475174, 3.2916794, 1.5037693, ...</td>\n",
       "      <td>0</td>\n",
       "    </tr>\n",
       "    <tr>\n",
       "      <th>2</th>\n",
       "      <td>[-783.04083, 116.88343, 0.9062586, 1.0534269, ...</td>\n",
       "      <td>0</td>\n",
       "    </tr>\n",
       "    <tr>\n",
       "      <th>3</th>\n",
       "      <td>[-789.7149, 110.97373, 0.37877244, 3.1957994, ...</td>\n",
       "      <td>0</td>\n",
       "    </tr>\n",
       "    <tr>\n",
       "      <th>4</th>\n",
       "      <td>[-761.6227, 124.40632, -2.1690712, 4.853089, -...</td>\n",
       "      <td>0</td>\n",
       "    </tr>\n",
       "  </tbody>\n",
       "</table>\n",
       "</div>"
      ],
      "text/plain": [
       "                                             feature  class_label\n",
       "0  [-785.49194, 115.91496, 0.42386302, 3.0818355,...            0\n",
       "1  [-802.4487, 110.475174, 3.2916794, 1.5037693, ...            0\n",
       "2  [-783.04083, 116.88343, 0.9062586, 1.0534269, ...            0\n",
       "3  [-789.7149, 110.97373, 0.37877244, 3.1957994, ...            0\n",
       "4  [-761.6227, 124.40632, -2.1690712, 4.853089, -...            0"
      ]
     },
     "execution_count": 3,
     "metadata": {},
     "output_type": "execute_result"
    }
   ],
   "source": [
    "df.head()"
   ]
  },
  {
   "cell_type": "code",
   "execution_count": 4,
   "metadata": {},
   "outputs": [],
   "source": [
    "X = df[\"feature\"].values\n",
    "X = np.concatenate(X, axis=0).reshape(len(X), 40)\n",
    "\n",
    "y = np.array(df[\"class_label\"].tolist())"
   ]
  },
  {
   "cell_type": "code",
   "execution_count": 5,
   "metadata": {},
   "outputs": [
    {
     "data": {
      "text/plain": [
       "(array([[-7.85491943e+02,  1.15914963e+02,  4.23863024e-01, ...,\n",
       "          4.17268181e+00, -4.86754745e-01,  2.41797042e+00],\n",
       "        [-8.02448730e+02,  1.10475174e+02,  3.29167938e+00, ...,\n",
       "          3.52485108e+00, -6.99103236e-01,  3.37527490e+00],\n",
       "        [-7.83040833e+02,  1.16883430e+02,  9.06258583e-01, ...,\n",
       "          1.27726424e+00, -1.83211577e+00,  2.97432566e+00],\n",
       "        ...,\n",
       "        [-6.06486328e+02,  8.48492126e+01, -8.04930687e+00, ...,\n",
       "         -2.58353353e+00,  3.19380808e+00, -2.22776011e-02],\n",
       "        [-6.33077942e+02,  8.15356750e+01, -7.38479644e-02, ...,\n",
       "          1.16767478e+00,  1.92375302e+00, -4.41440880e-01],\n",
       "        [-5.93576904e+02,  6.63030930e+01, -4.30666399e+00, ...,\n",
       "          4.40964311e-01,  3.91681880e-01, -9.29246664e-01]], dtype=float32),\n",
       " array([0, 0, 0, 0, 0, 0, 0, 0, 0, 0, 0, 0, 0, 0, 0, 0, 0, 0, 0, 0, 0, 0,\n",
       "        0, 0, 0, 0, 0, 0, 0, 0, 0, 0, 0, 0, 0, 0, 0, 0, 0, 0, 0, 0, 0, 0,\n",
       "        0, 0, 0, 0, 0, 0, 0, 0, 0, 0, 0, 0, 0, 0, 0, 0, 0, 0, 0, 0, 0, 0,\n",
       "        0, 0, 0, 0, 0, 0, 0, 0, 0, 0, 0, 0, 0, 0, 0, 0, 0, 0, 0, 0, 0, 0,\n",
       "        0, 0, 0, 0, 0, 0, 0, 0, 0, 0, 0, 0, 1, 1, 1, 1, 1, 1, 1, 1, 1, 1,\n",
       "        1, 1, 1, 1, 1, 1, 1, 1, 1, 1, 1, 1, 1, 1, 1, 1, 1, 1, 1, 1, 1, 1,\n",
       "        1, 1, 1, 1, 1, 1, 1, 1, 1, 1, 1, 1, 1, 1, 1, 1, 1, 1, 1, 1, 1, 1,\n",
       "        1, 1, 1, 1, 1, 1, 1, 1, 1, 1, 1, 1, 1, 1, 1, 1, 1, 1, 1, 1, 1, 1,\n",
       "        1, 1, 1, 1, 1, 1, 1, 1, 1, 1, 1, 1, 1, 1, 1, 1, 1, 1, 1, 1, 1]))"
      ]
     },
     "execution_count": 5,
     "metadata": {},
     "output_type": "execute_result"
    }
   ],
   "source": [
    "X,y"
   ]
  },
  {
   "cell_type": "code",
   "execution_count": 6,
   "metadata": {},
   "outputs": [],
   "source": [
    "X_train, X_test, y_train, y_test = train_test_split(X, y, test_size=0.2, random_state=42)\n"
   ]
  },
  {
   "cell_type": "code",
   "execution_count": 10,
   "metadata": {},
   "outputs": [
    {
     "name": "stdout",
     "output_type": "stream",
     "text": [
      "Model Score: \n",
      "\n",
      "0.95\n"
     ]
    }
   ],
   "source": [
    "logit_reg = LogisticRegression(max_iter=100000)\n",
    "logit_reg.fit(X_train, y_train)\n",
    "score = logit_reg.score(X_test, y_test)\n",
    "print(\"Model Score: \\n\")\n",
    "print(score)"
   ]
  },
  {
   "cell_type": "code",
   "execution_count": 11,
   "metadata": {},
   "outputs": [],
   "source": [
    "import matplotlib.pyplot as plt\n"
   ]
  },
  {
   "cell_type": "code",
   "execution_count": 13,
   "metadata": {},
   "outputs": [
    {
     "data": {
      "image/png": "[encoded data removed]",
      "text/plain": [
       "<Figure size 640x480 with 2 Axes>"
      ]
     },
     "metadata": {},
     "output_type": "display_data"
    }
   ],
   "source": [
    "y_pred = logit_reg.predict(X_test)\n",
    "cm=confusion_matrix(y_test,y_pred)\n",
    "disp = ConfusionMatrixDisplay(confusion_matrix=cm)\n",
    "disp.plot(cmap=plt.cm.Blues)\n",
    "plt.show()"
   ]
  },
  {
   "cell_type": "code",
   "execution_count": 15,
   "metadata": {},
   "outputs": [
    {
     "name": "stdout",
     "output_type": "stream",
     "text": [
      "[[-7.6924158e+02  1.1929252e+02  4.0567744e-01 ...  9.6396846e-01\n",
      "  -8.2746547e-01  3.4697011e+00]\n",
      " [-7.6378900e+02  1.0109766e+02 -6.2186728e+00 ...  4.4134898e+00\n",
      "   6.9351006e-01  3.8272994e+00]\n",
      " [-7.7969757e+02  1.1455907e+02 -9.1587174e-01 ...  2.0939121e+00\n",
      "  -8.1427228e-01  4.9433680e+00]\n",
      " ...\n",
      " [-5.5372528e+02  4.8484158e+01 -4.5110774e-01 ... -4.8421639e-01\n",
      "   1.6372480e+00  1.7727469e-01]\n",
      " [-6.0239386e+02  6.4755386e+01  1.7610765e+00 ... -8.1181479e-01\n",
      "   9.0129793e-01 -5.0383985e-01]\n",
      " [-7.3853632e+02  1.2519090e+02 -1.7065229e+01 ...  1.5300106e+00\n",
      "  -3.0200708e+00  1.9560792e+00]] [0 0 0 1 1 1 0 1 1 0 0 1 1 0 1 1 0 1 0 0 1 0 1 0 0 0 0 0 1 1 0 0 0 0 1 1 1\n",
      " 1 1 1]\n"
     ]
    }
   ],
   "source": [
    "print(X_test,y_pred)"
   ]
  },
  {
   "cell_type": "code",
   "execution_count": 16,
   "metadata": {},
   "outputs": [
    {
     "name": "stdout",
     "output_type": "stream",
     "text": [
      "              precision    recall  f1-score   support\n",
      "\n",
      "           0       0.95      0.95      0.95        21\n",
      "           1       0.95      0.95      0.95        19\n",
      "\n",
      "    accuracy                           0.95        40\n",
      "   macro avg       0.95      0.95      0.95        40\n",
      "weighted avg       0.95      0.95      0.95        40\n",
      "\n"
     ]
    }
   ],
   "source": [
    "print(classification_report(y_test, y_pred))"
   ]
  },
  {
   "cell_type": "code",
   "execution_count": 17,
   "metadata": {},
   "outputs": [],
   "source": [
    "pickle.dump(logit_reg, open('D:/Wake word detection/Saved Models/Logistic_reg_wakeword.txt', 'wb'))\n"
   ]
  }
 ],
 "metadata": {
  "kernelspec": {
   "display_name": "Python 3",
   "language": "python",
   "name": "python3"
  },
  "language_info": {
   "codemirror_mode": {
    "name": "ipython",
    "version": 3
   },
   "file_extension": ".py",
   "mimetype": "text/x-python",
   "name": "python",
   "nbconvert_exporter": "python",
   "pygments_lexer": "ipython3",
   "version": "3.11.4"
  }
 },
 "nbformat": 4,
 "nbformat_minor": 2
}

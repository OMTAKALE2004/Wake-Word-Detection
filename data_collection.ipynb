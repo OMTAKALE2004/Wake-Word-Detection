{
 "cells": [
  {
   "cell_type": "code",
   "execution_count": 1,
   "metadata": {},
   "outputs": [
    {
     "name": "stdout",
     "output_type": "stream",
     "text": [
      "Defaulting to user installation because normal site-packages is not writeable\n",
      "Requirement already satisfied: sounddevice in c:\\users\\om\\appdata\\roaming\\python\\python311\\site-packages (0.5.1)\n",
      "Requirement already satisfied: CFFI>=1.0 in c:\\users\\om\\appdata\\roaming\\python\\python311\\site-packages (from sounddevice) (1.16.0)\n",
      "Requirement already satisfied: pycparser in c:\\users\\om\\appdata\\roaming\\python\\python311\\site-packages (from CFFI>=1.0->sounddevice) (2.21)\n",
      "Note: you may need to restart the kernel to use updated packages.\n"
     ]
    },
    {
     "name": "stderr",
     "output_type": "stream",
     "text": [
      "DEPRECATION: Loading egg at c:\\program files\\python311\\lib\\site-packages\\vboxapi-1.0-py3.11.egg is deprecated. pip 24.3 will enforce this behaviour change. A possible replacement is to use pip for package installation. Discussion can be found at https://github.com/pypa/pip/issues/12330\n",
      "\n",
      "[notice] A new release of pip is available: 24.1 -> 24.2\n",
      "[notice] To update, run: python.exe -m pip install --upgrade pip\n"
     ]
    }
   ],
   "source": [
    "%pip install sounddevice"
   ]
  },
  {
   "cell_type": "code",
   "execution_count": 2,
   "metadata": {},
   "outputs": [
    {
     "name": "stdout",
     "output_type": "stream",
     "text": [
      "Note: you may need to restart the kernel to use updated packages.\n"
     ]
    },
    {
     "name": "stderr",
     "output_type": "stream",
     "text": [
      "DEPRECATION: Loading egg at c:\\program files\\python311\\lib\\site-packages\\vboxapi-1.0-py3.11.egg is deprecated. pip 24.3 will enforce this behaviour change. A possible replacement is to use pip for package installation. Discussion can be found at https://github.com/pypa/pip/issues/12330\n",
      "\n",
      "[notice] A new release of pip is available: 24.1 -> 24.2\n",
      "[notice] To update, run: python.exe -m pip install --upgrade pip\n"
     ]
    },
    {
     "name": "stdout",
     "output_type": "stream",
     "text": [
      "Defaulting to user installation because normal site-packages is not writeable\n",
      "Requirement already satisfied: scipy in c:\\users\\om\\appdata\\roaming\\python\\python311\\site-packages (1.11.1)\n",
      "Requirement already satisfied: numpy<1.28.0,>=1.21.6 in c:\\users\\om\\appdata\\roaming\\python\\python311\\site-packages (from scipy) (1.24.3)\n"
     ]
    }
   ],
   "source": [
    "%pip install scipy"
   ]
  },
  {
   "cell_type": "code",
   "execution_count": 1,
   "metadata": {},
   "outputs": [],
   "source": [
    "import sounddevice as sd\n",
    "from scipy.io.wavfile import write"
   ]
  },
  {
   "cell_type": "code",
   "execution_count": 2,
   "metadata": {},
   "outputs": [
    {
     "name": "stdout",
     "output_type": "stream",
     "text": [
      "Recording wake word\n",
      "Wake word recording function started\n"
     ]
    }
   ],
   "source": [
    "# collecting and storing wake word audio files\n",
    "\n",
    "def wake_word():\n",
    "    print(\"Wake word recording function started\")\n",
    "    wakeword_save_folder_path=\"D:/Wake word detection/Wake_Word/\"\n",
    "    no_of_recordings=100\n",
    "    input(\"To start recording Wake Word press Enter: \")\n",
    "\n",
    "    for i in range(0,no_of_recordings):\n",
    "        sample_rate=44100\n",
    "        record_duration=2\n",
    "        recordings=sd.rec(int(sample_rate*record_duration),samplerate=sample_rate,channels=2)\n",
    "        sd.wait()\n",
    "        write(wakeword_save_folder_path+str(i)+\".wav\",sample_rate,recordings)\n",
    "        input(f\"Press to record next or two stop press ctrl + C ({i + 1}/{no_of_recordings}): \")\n",
    "\n",
    "\n",
    "\n",
    "print(\"Recording wake word\")\n",
    "wake_word()\n"
   ]
  },
  {
   "cell_type": "code",
   "execution_count": null,
   "metadata": {},
   "outputs": [],
   "source": [
    "def background():\n",
    "    print(\"background recording function started\")\n",
    "    background_save_folder_path=\"D:/Wake word detection/Background/\"\n",
    "    no_of_recordings=100\n",
    "    input(\"To start recording background press Enter: \")\n",
    "\n",
    "    for i in range(0,no_of_recordings):\n",
    "        sample_rate=44100\n",
    "  \n",
    "        record_duration=2\n",
    "        recordings=sd.rec(int(sample_rate*record_duration),samplerate=sample_rate,channels=2)\n",
    "        sd.wait()\n",
    "        write(background_save_folder_path+str(i)+\".wav\",sample_rate,recordings)\n",
    "        print(f\"Currently on {i+1}/{no_of_recordings}\")\n",
    "        \n",
    "\n",
    "\n",
    "print(\"Recording background\")\n",
    "background()\n"
   ]
  },
  {
   "cell_type": "code",
   "execution_count": null,
   "metadata": {},
   "outputs": [],
   "source": []
  }
 ],
 "metadata": {
  "kernelspec": {
   "display_name": "Python 3",
   "language": "python",
   "name": "python3"
  },
  "language_info": {
   "codemirror_mode": {
    "name": "ipython",
    "version": 3
   },
   "file_extension": ".py",
   "mimetype": "text/x-python",
   "name": "python",
   "nbconvert_exporter": "python",
   "pygments_lexer": "ipython3",
   "version": "3.11.4"
  }
 },
 "nbformat": 4,
 "nbformat_minor": 2
}
